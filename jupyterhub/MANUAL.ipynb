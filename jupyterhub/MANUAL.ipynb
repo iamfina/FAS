{
 "cells": [
  {
   "cell_type": "markdown",
   "metadata": {},
   "source": [
    "# Инструкция по работе с hub\n",
    "Данная инструкция будет пополняться и обновляться регулярно, поэтому советую время от времени сюда заглядывать"
   ]
  },
  {
   "cell_type": "markdown",
   "metadata": {},
   "source": [
    "Первым делом необходиммо склонировать https://github.com/ods-ai-ml4sg/proj_procurement репозитарий, лучше это сделать в отдельном окне терминала, которое можно создать выбрав в меню **New -> Terminal**"
   ]
  },
  {
   "cell_type": "markdown",
   "metadata": {},
   "source": [
    "### Доступы к данным.\n",
    "\n",
    "ФАС:"
   ]
  },
  {
   "cell_type": "code",
   "execution_count": null,
   "metadata": {},
   "outputs": [],
   "source": [
    "\"\"\"\n",
    "Данная функция принимает два параметра offset: int и limit: int. Дефолтные значения 0 и 10000.\n",
    "Пока не \n",
    "\"\"\"\n",
    "from readers import read_rawfas_to_pandas\n",
    "d = read_rawfas_to_pandas()\n",
    "d.head()"
   ]
  }
 ],
 "metadata": {
  "kernelspec": {
   "display_name": "Python 3",
   "language": "python",
   "name": "python3"
  },
  "language_info": {
   "codemirror_mode": {
    "name": "ipython",
    "version": 3
   },
   "file_extension": ".py",
   "mimetype": "text/x-python",
   "name": "python",
   "nbconvert_exporter": "python",
   "pygments_lexer": "ipython3",
   "version": "3.6.5"
  }
 },
 "nbformat": 4,
 "nbformat_minor": 2
}
