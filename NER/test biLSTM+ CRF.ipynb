{
 "cells": [
  {
   "cell_type": "markdown",
   "metadata": {},
   "source": [
    "## NER BiLSTM+CRF\n",
    "https://github.com/deepmipt/ner\n",
    "\n",
    "https://arxiv.org/pdf/1709.09686.pdf"
   ]
  },
  {
   "cell_type": "code",
   "execution_count": 1,
   "metadata": {
    "scrolled": true
   },
   "outputs": [
    {
     "name": "stdout",
     "output_type": "stream",
     "text": [
      "Collecting git+https://github.com/deepmipt/ner\n",
      "  Cloning https://github.com/deepmipt/ner to /tmp/pip-req-build-750_mf9u\n",
      "Collecting numpy==1.13.1 (from ner==0.0.1)\n",
      "\u001b[?25l  Downloading https://files.pythonhosted.org/packages/59/e2/57c1a6af4ff0ac095dd68b12bf07771813dbf401faf1b97f5fc0cb963647/numpy-1.13.1-cp36-cp36m-manylinux1_x86_64.whl (17.0MB)\n",
      "\u001b[K    100% |████████████████████████████████| 17.0MB 1.1MB/s ta 0:00:011\n",
      "\u001b[?25hCollecting tensorflow==1.3.0 (from ner==0.0.1)\n",
      "\u001b[?25l  Downloading https://files.pythonhosted.org/packages/7c/9f/57e1404fc9345759e4a732c4ab48ab4dd78fd1e60ee1270442b8850fa75f/tensorflow-1.3.0-cp36-cp36m-manylinux1_x86_64.whl (43.5MB)\n",
      "\u001b[K    100% |████████████████████████████████| 43.6MB 645kB/s ta 0:00:011    42% |█████████████▌                  | 18.4MB 2.7MB/s eta 0:00:10    55% |█████████████████▉              | 24.3MB 2.1MB/s eta 0:00:10    82% |██████████████████████████▎     | 35.7MB 3.0MB/s eta 0:00:03\n",
      "\u001b[?25hCollecting pymorphy2==0.8 (from ner==0.0.1)\n",
      "\u001b[?25l  Downloading https://files.pythonhosted.org/packages/a3/33/fff9675c68b5f6c63ec8c6e6ff57827dda28a1fa5b2c2d727dffff92dd47/pymorphy2-0.8-py2.py3-none-any.whl (46kB)\n",
      "\u001b[K    100% |████████████████████████████████| 51kB 2.7MB/s ta 0:00:01\n",
      "\u001b[?25hCollecting pymorphy2-dicts==2.4.393442.3710985 (from ner==0.0.1)\n",
      "\u001b[?25l  Downloading https://files.pythonhosted.org/packages/02/51/2465fd4f72328ab50877b54777764d928da8cb15b74e2680fc1bd8cb3173/pymorphy2_dicts-2.4.393442.3710985-py2.py3-none-any.whl (7.1MB)\n",
      "\u001b[K    100% |████████████████████████████████| 7.1MB 1.9MB/s ta 0:00:011    98% |███████████████████████████████▍| 7.0MB 1.6MB/s eta 0:00:01\n",
      "\u001b[?25hCollecting tqdm==4.19.5 (from ner==0.0.1)\n",
      "\u001b[?25l  Downloading https://files.pythonhosted.org/packages/71/3c/341b4fa23cb3abc335207dba057c790f3bb329f6757e1fcd5d347bcf8308/tqdm-4.19.5-py2.py3-none-any.whl (51kB)\n",
      "\u001b[K    100% |████████████████████████████████| 61kB 5.9MB/s ta 0:00:011\n",
      "\u001b[?25hRequirement already satisfied: requests==2.18.4 in /home/vladimir/anaconda3/lib/python3.6/site-packages (from ner==0.0.1) (2.18.4)\n",
      "Collecting gensim==2.3.0 (from ner==0.0.1)\n",
      "\u001b[?25l  Downloading https://files.pythonhosted.org/packages/bc/ed/fbbb2cc3f37a39cc4ff8e5f667374478fb852b384840aa7feb9608144290/gensim-2.3.0.tar.gz (17.2MB)\n",
      "\u001b[K    100% |████████████████████████████████| 17.2MB 1.5MB/s ta 0:00:011    95% |██████████████████████████████▌ | 16.4MB 2.0MB/s eta 0:00:01\n",
      "\u001b[?25hRequirement already satisfied: wheel>=0.26 in /home/vladimir/anaconda3/lib/python3.6/site-packages (from tensorflow==1.3.0->ner==0.0.1) (0.29.0)\n",
      "Requirement already satisfied: protobuf>=3.3.0 in /home/vladimir/anaconda3/lib/python3.6/site-packages (from tensorflow==1.3.0->ner==0.0.1) (3.5.2)\n",
      "Collecting tensorflow-tensorboard<0.2.0,>=0.1.0 (from tensorflow==1.3.0->ner==0.0.1)\n",
      "\u001b[?25l  Downloading https://files.pythonhosted.org/packages/93/31/bb4111c3141d22bd7b2b553a26aa0c1863c86cb723919e5bd7847b3de4fc/tensorflow_tensorboard-0.1.8-py3-none-any.whl (1.6MB)\n",
      "\u001b[K    100% |████████████████████████████████| 1.6MB 3.1MB/s ta 0:00:011\n",
      "\u001b[?25hRequirement already satisfied: six>=1.10.0 in /home/vladimir/anaconda3/lib/python3.6/site-packages (from tensorflow==1.3.0->ner==0.0.1) (1.11.0)\n",
      "Collecting docopt>=0.6 (from pymorphy2==0.8->ner==0.0.1)\n",
      "  Downloading https://files.pythonhosted.org/packages/a2/55/8f8cab2afd404cf578136ef2cc5dfb50baa1761b68c9da1fb1e4eed343c9/docopt-0.6.2.tar.gz\n",
      "Collecting dawg-python>=0.7 (from pymorphy2==0.8->ner==0.0.1)\n",
      "  Downloading https://files.pythonhosted.org/packages/6a/84/ff1ce2071d4c650ec85745766c0047ccc3b5036f1d03559fd46bb38b5eeb/DAWG_Python-0.7.2-py2.py3-none-any.whl\n",
      "Requirement already satisfied: chardet<3.1.0,>=3.0.2 in /home/vladimir/anaconda3/lib/python3.6/site-packages (from requests==2.18.4->ner==0.0.1) (3.0.4)\n",
      "Requirement already satisfied: idna<2.7,>=2.5 in /home/vladimir/anaconda3/lib/python3.6/site-packages (from requests==2.18.4->ner==0.0.1) (2.6)\n",
      "Requirement already satisfied: urllib3<1.23,>=1.21.1 in /home/vladimir/anaconda3/lib/python3.6/site-packages (from requests==2.18.4->ner==0.0.1) (1.22)\n",
      "Requirement already satisfied: certifi>=2017.4.17 in /home/vladimir/anaconda3/lib/python3.6/site-packages (from requests==2.18.4->ner==0.0.1) (2017.7.27.1)\n",
      "Requirement already satisfied: scipy>=0.18.1 in /home/vladimir/anaconda3/lib/python3.6/site-packages (from gensim==2.3.0->ner==0.0.1) (0.19.1)\n",
      "Requirement already satisfied: smart_open>=1.2.1 in /home/vladimir/anaconda3/lib/python3.6/site-packages (from gensim==2.3.0->ner==0.0.1) (1.5.6)\n",
      "Requirement already satisfied: setuptools in /home/vladimir/anaconda3/lib/python3.6/site-packages (from protobuf>=3.3.0->tensorflow==1.3.0->ner==0.0.1) (36.5.0.post20170921)\n",
      "Requirement already satisfied: html5lib==0.9999999 in /home/vladimir/anaconda3/lib/python3.6/site-packages (from tensorflow-tensorboard<0.2.0,>=0.1.0->tensorflow==1.3.0->ner==0.0.1) (0.9999999)\n",
      "Requirement already satisfied: markdown>=2.6.8 in /home/vladimir/anaconda3/lib/python3.6/site-packages (from tensorflow-tensorboard<0.2.0,>=0.1.0->tensorflow==1.3.0->ner==0.0.1) (2.6.11)\n",
      "Requirement already satisfied: bleach==1.5.0 in /home/vladimir/anaconda3/lib/python3.6/site-packages (from tensorflow-tensorboard<0.2.0,>=0.1.0->tensorflow==1.3.0->ner==0.0.1) (1.5.0)\n",
      "Requirement already satisfied: werkzeug>=0.11.10 in /home/vladimir/anaconda3/lib/python3.6/site-packages (from tensorflow-tensorboard<0.2.0,>=0.1.0->tensorflow==1.3.0->ner==0.0.1) (0.12.2)\n",
      "Requirement already satisfied: bz2file in /home/vladimir/anaconda3/lib/python3.6/site-packages (from smart_open>=1.2.1->gensim==2.3.0->ner==0.0.1) (0.98)\n",
      "Requirement already satisfied: boto>=2.32 in /home/vladimir/anaconda3/lib/python3.6/site-packages (from smart_open>=1.2.1->gensim==2.3.0->ner==0.0.1) (2.48.0)\n",
      "Requirement already satisfied: boto3 in /home/vladimir/anaconda3/lib/python3.6/site-packages (from smart_open>=1.2.1->gensim==2.3.0->ner==0.0.1) (1.6.11)\n",
      "Requirement already satisfied: jmespath<1.0.0,>=0.7.1 in /home/vladimir/anaconda3/lib/python3.6/site-packages (from boto3->smart_open>=1.2.1->gensim==2.3.0->ner==0.0.1) (0.9.3)\n",
      "Requirement already satisfied: s3transfer<0.2.0,>=0.1.10 in /home/vladimir/anaconda3/lib/python3.6/site-packages (from boto3->smart_open>=1.2.1->gensim==2.3.0->ner==0.0.1) (0.1.13)\n",
      "Requirement already satisfied: botocore<1.10.0,>=1.9.11 in /home/vladimir/anaconda3/lib/python3.6/site-packages (from boto3->smart_open>=1.2.1->gensim==2.3.0->ner==0.0.1) (1.9.11)\n",
      "Requirement already satisfied: python-dateutil<2.7.0,>=2.1 in /home/vladimir/anaconda3/lib/python3.6/site-packages (from botocore<1.10.0,>=1.9.11->boto3->smart_open>=1.2.1->gensim==2.3.0->ner==0.0.1) (2.6.1)\n",
      "Requirement already satisfied: docutils>=0.10 in /home/vladimir/anaconda3/lib/python3.6/site-packages (from botocore<1.10.0,>=1.9.11->boto3->smart_open>=1.2.1->gensim==2.3.0->ner==0.0.1) (0.14)\n",
      "Building wheels for collected packages: ner, gensim, docopt\n",
      "  Running setup.py bdist_wheel for ner ... \u001b[?25ldone\n",
      "\u001b[?25h  Stored in directory: /tmp/pip-ephem-wheel-cache-t9okswo_/wheels/46/f5/1c/0657f016f0e9725ee09f56dab547bd0bcb76fbbbc067a950ea\n",
      "  Running setup.py bdist_wheel for gensim ... \u001b[?25ldone\n",
      "\u001b[?25h  Stored in directory: /home/vladimir/.cache/pip/wheels/3a/1f/86/63c886325bdffa379a7c91499bc9ea6317a4e4e0fc6e2ff1ce\n",
      "  Running setup.py bdist_wheel for docopt ... \u001b[?25ldone\n",
      "\u001b[?25h  Stored in directory: /home/vladimir/.cache/pip/wheels/9b/04/dd/7daf4150b6d9b12949298737de9431a324d4b797ffd63f526e\n",
      "Successfully built ner gensim docopt\n",
      "\u001b[31mawscli 1.14.43 has requirement botocore==1.8.47, but you'll have botocore 1.9.11 which is incompatible.\u001b[0m\n",
      "Installing collected packages: numpy, tensorflow-tensorboard, tensorflow, docopt, pymorphy2-dicts, dawg-python, pymorphy2, tqdm, gensim, ner\n",
      "  Found existing installation: numpy 1.13.3\n",
      "    Uninstalling numpy-1.13.3:\n",
      "      Successfully uninstalled numpy-1.13.3\n",
      "  Found existing installation: tensorflow 1.6.0\n",
      "    Uninstalling tensorflow-1.6.0:\n",
      "      Successfully uninstalled tensorflow-1.6.0\n",
      "  Found existing installation: tqdm 4.19.8\n",
      "    Uninstalling tqdm-4.19.8:\n",
      "      Successfully uninstalled tqdm-4.19.8\n",
      "  Found existing installation: gensim 3.4.0\n",
      "    Uninstalling gensim-3.4.0:\n",
      "      Successfully uninstalled gensim-3.4.0\n"
     ]
    },
    {
     "name": "stdout",
     "output_type": "stream",
     "text": [
      "Successfully installed dawg-python-0.7.2 docopt-0.6.2 gensim-2.3.0 ner-0.0.1 numpy-1.13.1 pymorphy2-0.8 pymorphy2-dicts-2.4.393442.3710985 tensorflow-1.3.0 tensorflow-tensorboard-0.1.8 tqdm-4.19.5\r\n"
     ]
    }
   ],
   "source": [
    "!pip3 install git+https://github.com/deepmipt/ner"
   ]
  },
  {
   "cell_type": "code",
   "execution_count": 2,
   "metadata": {
    "collapsed": true
   },
   "outputs": [],
   "source": [
    "import ner"
   ]
  },
  {
   "cell_type": "code",
   "execution_count": 3,
   "metadata": {},
   "outputs": [
    {
     "name": "stdout",
     "output_type": "stream",
     "text": [
      "Downloading from http://lnsigo.mipt.ru/export/models/ner/ner_model_total_rus.tar.gz to /home/vladimir/anaconda3/lib/python3.6/site-packages/ner/extractor/../model/ner_model_total_rus.tar.gz\n"
     ]
    },
    {
     "name": "stderr",
     "output_type": "stream",
     "text": [
      "100%|█████████▉| 44.2M/44.3M [00:20<00:00, 2.29MB/s]"
     ]
    },
    {
     "name": "stdout",
     "output_type": "stream",
     "text": [
      "Extracting /home/vladimir/anaconda3/lib/python3.6/site-packages/ner/extractor/../model/ner_model_total_rus.tar.gz archive into /home/vladimir/anaconda3/lib/python3.6/site-packages/ner/extractor/../model\n"
     ]
    },
    {
     "name": "stderr",
     "output_type": "stream",
     "text": [
      "/home/vladimir/anaconda3/lib/python3.6/site-packages/tensorflow/python/ops/gradients_impl.py:95: UserWarning: Converting sparse IndexedSlices to a dense Tensor of unknown shape. This may consume a large amount of memory.\n",
      "  \"Converting sparse IndexedSlices to a dense Tensor of unknown shape. \"\n"
     ]
    },
    {
     "name": "stdout",
     "output_type": "stream",
     "text": [
      "INFO:tensorflow:Restoring parameters from /home/vladimir/anaconda3/lib/python3.6/site-packages/ner/extractor/../model/ner_model\n"
     ]
    },
    {
     "name": "stderr",
     "output_type": "stream",
     "text": [
      "\r",
      "100%|██████████| 44.3M/44.3M [00:40<00:00, 2.29MB/s]"
     ]
    }
   ],
   "source": [
    "extractor = ner.Extractor()"
   ]
  },
  {
   "cell_type": "code",
   "execution_count": 5,
   "metadata": {
    "collapsed": true
   },
   "outputs": [],
   "source": [
    "import pandas as pd"
   ]
  },
  {
   "cell_type": "code",
   "execution_count": 16,
   "metadata": {},
   "outputs": [],
   "source": [
    "with open('../data/doc.txt') as f:\n",
    "    text = f.read()"
   ]
  },
  {
   "cell_type": "code",
   "execution_count": null,
   "metadata": {
    "collapsed": true
   },
   "outputs": [],
   "source": [
    "import time"
   ]
  },
  {
   "cell_type": "code",
   "execution_count": 21,
   "metadata": {},
   "outputs": [
    {
     "name": "stdout",
     "output_type": "stream",
     "text": [
      "Match(tokens=[Token(span=(124, 126), text='ЦС')], span=Span(start=124, end=126), type='ORG')\n",
      "Match(tokens=[Token(span=(434, 442), text='Сбербанк')], span=Span(start=434, end=442), type='ORG')\n",
      "Match(tokens=[Token(span=(456, 463), text='Воронеж')], span=Span(start=456, end=463), type='LOC')\n",
      "Match(tokens=[Token(span=(1006, 1012), text='Рожков'), Token(span=(1013, 1018), text='Павел'), Token(span=(1019, 1029), text='Николаевич')], span=Span(start=1006, end=1029), type='PER')\n",
      "Match(tokens=[Token(span=(1301, 1309), text='Сбербанк')], span=Span(start=1301, end=1309), type='ORG')\n",
      "Match(tokens=[Token(span=(1345, 1353), text='Сбербанк')], span=Span(start=1345, end=1353), type='ORG')\n",
      "Match(tokens=[Token(span=(3750, 3760), text='Российской'), Token(span=(3761, 3770), text='Федерации')], span=Span(start=3750, end=3770), type='LOC')\n",
      "Match(tokens=[Token(span=(3905, 3913), text='Сбербанк')], span=Span(start=3905, end=3913), type='ORG')\n",
      "Match(tokens=[Token(span=(4183, 4193), text='Российской'), Token(span=(4194, 4203), text='Федерации')], span=Span(start=4183, end=4203), type='LOC')\n",
      "Match(tokens=[Token(span=(4388, 4398), text='Российской'), Token(span=(4399, 4408), text='Федерации')], span=Span(start=4388, end=4408), type='LOC')\n",
      "Match(tokens=[Token(span=(4798, 4810), text='арбитражного'), Token(span=(4811, 4815), text='суда')], span=Span(start=4798, end=4815), type='ORG')\n",
      "Match(tokens=[Token(span=(4982, 4992), text='Российской'), Token(span=(4993, 5002), text='Федерации')], span=Span(start=4982, end=5002), type='LOC')\n",
      "Match(tokens=[Token(span=(5428, 5438), text='Российской'), Token(span=(5439, 5448), text='Федерации')], span=Span(start=5428, end=5448), type='LOC')\n",
      "Match(tokens=[Token(span=(5686, 5696), text='Российской'), Token(span=(5697, 5706), text='Федерации')], span=Span(start=5686, end=5706), type='LOC')\n",
      "Match(tokens=[Token(span=(7333, 7341), text='Сбербанк')], span=Span(start=7333, end=7341), type='ORG')\n",
      "Match(tokens=[Token(span=(9234, 9236), text='РФ')], span=Span(start=9234, end=9236), type='LOC')\n",
      "Match(tokens=[Token(span=(9695, 9697), text='РФ')], span=Span(start=9695, end=9697), type='LOC')\n",
      "Match(tokens=[Token(span=(9965, 9973), text='Сбербанк')], span=Span(start=9965, end=9973), type='ORG')\n",
      "Match(tokens=[Token(span=(11069, 11077), text='Сбербанк')], span=Span(start=11069, end=11077), type='ORG')\n",
      "Match(tokens=[Token(span=(11101, 11108), text='Воронеж')], span=Span(start=11101, end=11108), type='LOC')\n",
      "Match(tokens=[Token(span=(11246, 11254), text='Сбербанк')], span=Span(start=11246, end=11254), type='ORG')\n",
      "Match(tokens=[Token(span=(11823, 11831), text='Сбербанк')], span=Span(start=11823, end=11831), type='ORG')\n",
      "Match(tokens=[Token(span=(11854, 11861), text='Воронеж')], span=Span(start=11854, end=11861), type='LOC')\n",
      "Match(tokens=[Token(span=(12133, 12141), text='Сбербанк')], span=Span(start=12133, end=12141), type='ORG')\n",
      "Match(tokens=[Token(span=(12163, 12170), text='Воронеж')], span=Span(start=12163, end=12170), type='LOC')\n",
      "Match(tokens=[Token(span=(13852, 13862), text='Российской'), Token(span=(13863, 13872), text='Федерации')], span=Span(start=13852, end=13872), type='LOC')\n",
      "Match(tokens=[Token(span=(14559, 14569), text='Российской'), Token(span=(14570, 14579), text='Федерации')], span=Span(start=14559, end=14579), type='LOC')\n",
      "Match(tokens=[Token(span=(17654, 17662), text='Сбербанк')], span=Span(start=17654, end=17662), type='ORG')\n",
      "Match(tokens=[Token(span=(18059, 18071), text='Белгородской'), Token(span=(18072, 18075), text='обл')], span=Span(start=18059, end=18075), type='LOC')\n",
      "Match(tokens=[Token(span=(18485, 18497), text='Белгородской'), Token(span=(18498, 18501), text='обл')], span=Span(start=18485, end=18501), type='LOC')\n",
      "Match(tokens=[Token(span=(19333, 19336), text='чел')], span=Span(start=19333, end=19336), type='PER')\n",
      "Match(tokens=[Token(span=(19550, 19559), text='Минздрава')], span=Span(start=19550, end=19559), type='ORG')\n",
      "Match(tokens=[Token(span=(19560, 19562), text='РФ')], span=Span(start=19560, end=19562), type='LOC')\n",
      "Match(tokens=[Token(span=(19864, 19873), text='Минздрава')], span=Span(start=19864, end=19873), type='ORG')\n",
      "Match(tokens=[Token(span=(19874, 19876), text='РФ')], span=Span(start=19874, end=19876), type='LOC')\n",
      "Match(tokens=[Token(span=(20600, 20614), text='ориентировочно')], span=Span(start=20600, end=20614), type='PER')\n",
      "Match(tokens=[Token(span=(20754, 20766), text='Белгородская'), Token(span=(20767, 20770), text='обл')], span=Span(start=20754, end=20770), type='LOC')\n",
      "Match(tokens=[Token(span=(20806, 20813), text='стоянки'), Token(span=(20814, 20832), text='спецавтотранспорта')], span=Span(start=20806, end=20832), type='PER')\n",
      "Match(tokens=[Token(span=(21519, 21526), text='стоянки'), Token(span=(21527, 21545), text='спецавтотранспорта')], span=Span(start=21519, end=21545), type='PER')\n",
      "Match(tokens=[Token(span=(21547, 21559), text='Белгородская'), Token(span=(21560, 21563), text='обл')], span=Span(start=21547, end=21563), type='LOC')\n",
      "Match(tokens=[Token(span=(21864, 21876), text='Предрейсовый'), Token(span=(21877, 21888), text='медицинский'), Token(span=(21889, 21895), text='осмотр')], span=Span(start=21864, end=21895), type='ORG')\n",
      "Match(tokens=[Token(span=(22018, 22030), text='Предрейсовый'), Token(span=(22031, 22042), text='медицинский'), Token(span=(22043, 22049), text='осмотр')], span=Span(start=22018, end=22049), type='ORG')\n",
      "Match(tokens=[Token(span=(22167, 22179), text='Белгородской'), Token(span=(22180, 22183), text='обл')], span=Span(start=22167, end=22183), type='LOC')\n",
      "Match(tokens=[Token(span=(22585, 22587), text='РФ')], span=Span(start=22585, end=22587), type='LOC')\n",
      "Match(tokens=[Token(span=(24601, 24602), text='ф')], span=Span(start=24601, end=24602), type='PER')\n",
      "Match(tokens=[Token(span=(24674, 24675), text='ф')], span=Span(start=24674, end=24675), type='PER')\n",
      "Match(tokens=[Token(span=(24745, 24748), text='ФНС')], span=Span(start=24745, end=24748), type='ORG')\n",
      "Match(tokens=[Token(span=(24749, 24755), text='России')], span=Span(start=24749, end=24755), type='LOC')\n",
      "Match(tokens=[Token(span=(25102, 25103), text='ф')], span=Span(start=25102, end=25103), type='LOC')\n",
      "Match(tokens=[Token(span=(25258, 25259), text='ф')], span=Span(start=25258, end=25259), type='PER')\n",
      "Match(tokens=[Token(span=(25686, 25696), text='Российской'), Token(span=(25697, 25706), text='Федерации')], span=Span(start=25686, end=25706), type='LOC')\n",
      "Match(tokens=[Token(span=(26596, 26606), text='Российской'), Token(span=(26607, 26616), text='Федерации')], span=Span(start=26596, end=26616), type='LOC')\n",
      "Match(tokens=[Token(span=(27165, 27166), text='ф')], span=Span(start=27165, end=27166), type='PER')\n",
      "Match(tokens=[Token(span=(27633, 27643), text='Российской'), Token(span=(27644, 27653), text='Федерации')], span=Span(start=27633, end=27653), type='LOC')\n",
      "Match(tokens=[Token(span=(28331, 28341), text='Российской'), Token(span=(28342, 28351), text='Федерации')], span=Span(start=28331, end=28351), type='LOC')\n",
      "Match(tokens=[Token(span=(28353, 28364), text='нотариально')], span=Span(start=28353, end=28364), type='LOC')\n",
      "Match(tokens=[Token(span=(28412, 28422), text='Российской'), Token(span=(28423, 28432), text='Федерации')], span=Span(start=28412, end=28432), type='LOC')\n",
      "Match(tokens=[Token(span=(28777, 28787), text='Российской'), Token(span=(28788, 28797), text='Федерации')], span=Span(start=28777, end=28797), type='LOC')\n",
      "Match(tokens=[Token(span=(28835, 28845), text='Российской'), Token(span=(28846, 28855), text='Федерации')], span=Span(start=28835, end=28855), type='LOC')\n",
      "Match(tokens=[Token(span=(29642, 29653), text='Certificate'), Token(span=(29654, 29656), text='of'), Token(span=(29657, 29661), text='Good'), Token(span=(29662, 29670), text='Standing')], span=Span(start=29642, end=29670), type='ORG')\n",
      "Match(tokens=[Token(span=(31456, 31466), text='Российской'), Token(span=(31467, 31476), text='Федерации')], span=Span(start=31456, end=31476), type='LOC')\n",
      "Match(tokens=[Token(span=(31644, 31654), text='Российской'), Token(span=(31655, 31664), text='Федерации')], span=Span(start=31644, end=31664), type='LOC')\n",
      "Match(tokens=[Token(span=(31837, 31847), text='Российской'), Token(span=(31848, 31857), text='Федерации')], span=Span(start=31837, end=31857), type='LOC')\n",
      "Match(tokens=[Token(span=(31961, 31971), text='Российской'), Token(span=(31972, 31981), text='Федерации')], span=Span(start=31961, end=31981), type='LOC')\n",
      "Match(tokens=[Token(span=(36186, 36187), text='М')], span=Span(start=36186, end=36187), type='PER')\n",
      "Match(tokens=[Token(span=(37009, 37012), text='ХХХ'), Token(span=(37013, 37016), text='ХХХ')], span=Span(start=37009, end=37016), type='PER')\n",
      "Match(tokens=[Token(span=(37937, 37940), text='НДС'), Token(span=(37941, 37944), text='НДС')], span=Span(start=37937, end=37944), type='PER')\n",
      "Match(tokens=[Token(span=(38054, 38059), text='ИТОГО'), Token(span=(38060, 38061), text='х')], span=Span(start=38054, end=38061), type='PER')\n",
      "Match(tokens=[Token(span=(39296, 39306), text='Российской'), Token(span=(39307, 39316), text='Федерации')], span=Span(start=39296, end=39316), type='LOC')\n",
      "Match(tokens=[Token(span=(41309, 41312), text='ИНН'), Token(span=(41312, 41313), text='/'), Token(span=(41313, 41317), text='ОГРН')], span=Span(start=41309, end=41317), type='PER')\n",
      "Match(tokens=[Token(span=(42528, 42531), text='ИНН')], span=Span(start=42528, end=42531), type='PER')\n",
      "Match(tokens=[Token(span=(42831, 42832), text='М')], span=Span(start=42831, end=42832), type='PER')\n",
      "Match(tokens=[Token(span=(42889, 42897), text='отчество')], span=Span(start=42889, end=42897), type='PER')\n",
      "Match(tokens=[Token(span=(44655, 44663), text='Сбербанк'), Token(span=(44664, 44670), text='России')], span=Span(start=44655, end=44670), type='ORG')\n",
      "Match(tokens=[Token(span=(44677, 44685), text='Сбербанк')], span=Span(start=44677, end=44685), type='ORG')\n",
      "Match(tokens=[Token(span=(45501, 45515), text='ориентировочно')], span=Span(start=45501, end=45515), type='PER')\n",
      "Match(tokens=[Token(span=(45812, 45821), text='Минздрава')], span=Span(start=45812, end=45821), type='ORG')\n",
      "Match(tokens=[Token(span=(45822, 45824), text='РФ')], span=Span(start=45822, end=45824), type='LOC')\n",
      "Match(tokens=[Token(span=(46126, 46135), text='Минздрава')], span=Span(start=46126, end=46135), type='ORG')\n",
      "Match(tokens=[Token(span=(46136, 46138), text='РФ')], span=Span(start=46136, end=46138), type='LOC')\n",
      "Match(tokens=[Token(span=(46260, 46273), text='послерейсовый'), Token(span=(46274, 46285), text='медицинский'), Token(span=(46286, 46292), text='осмотр')], span=Span(start=46260, end=46292), type='ORG')\n",
      "Match(tokens=[Token(span=(46803, 46806), text='чел')], span=Span(start=46803, end=46806), type='PER')\n",
      "Match(tokens=[Token(span=(47815, 47817), text='РФ')], span=Span(start=47815, end=47817), type='LOC')\n",
      "Match(tokens=[Token(span=(51216, 51221), text='штамп')], span=Span(start=51216, end=51221), type='PER')\n",
      "Match(tokens=[Token(span=(51671, 51674), text='акт'), Token(span=(51675, 51687), text='медицинского'), Token(span=(51688, 51707), text='освидетельствования')], span=Span(start=51671, end=51707), type='ORG')\n",
      "Match(tokens=[Token(span=(51725, 51734), text='Минздрава')], span=Span(start=51725, end=51734), type='ORG')\n",
      "Match(tokens=[Token(span=(51735, 51741), text='России')], span=Span(start=51735, end=51741), type='LOC')\n",
      "Match(tokens=[Token(span=(51802, 51821), text='Минздравсоцразвития')], span=Span(start=51802, end=51821), type='ORG')\n",
      "Match(tokens=[Token(span=(51822, 51828), text='России')], span=Span(start=51822, end=51828), type='LOC')\n",
      "Match(tokens=[Token(span=(53711, 53721), text='Российской'), Token(span=(53722, 53731), text='Федерации')], span=Span(start=53711, end=53731), type='LOC')\n",
      "Match(tokens=[Token(span=(54033, 54043), text='Российской'), Token(span=(54044, 54053), text='Федерации')], span=Span(start=54033, end=54053), type='LOC')\n",
      "Match(tokens=[Token(span=(54827, 54837), text='Российской'), Token(span=(54838, 54847), text='Федерации')], span=Span(start=54827, end=54847), type='LOC')\n",
      "Match(tokens=[Token(span=(55318, 55329), text='Арбитражный'), Token(span=(55330, 55333), text='суд')], span=Span(start=55318, end=55333), type='ORG')\n",
      "Match(tokens=[Token(span=(55337, 55344), text='Воронеж')], span=Span(start=55337, end=55344), type='LOC')\n",
      "Match(tokens=[Token(span=(55392, 55402), text='Российской'), Token(span=(55403, 55412), text='Федерации')], span=Span(start=55392, end=55412), type='LOC')\n",
      "Match(tokens=[Token(span=(55958, 55968), text='Российской'), Token(span=(55969, 55978), text='Федерации')], span=Span(start=55958, end=55978), type='LOC')\n",
      "Match(tokens=[Token(span=(57412, 57422), text='Российской'), Token(span=(57423, 57432), text='Федерации')], span=Span(start=57412, end=57432), type='LOC')\n",
      "Match(tokens=[Token(span=(58196, 58204), text='Сбербанк')], span=Span(start=58196, end=58204), type='ORG')\n",
      "Match(tokens=[Token(span=(58205, 58211), text='России')], span=Span(start=58205, end=58211), type='LOC')\n",
      "Match(tokens=[Token(span=(58244, 58250), text='Москва')], span=Span(start=58244, end=58250), type='LOC')\n",
      "Match(tokens=[Token(span=(58398, 58399), text=','), Token(span=(58400, 58405), text='ОКВЭД')], span=Span(start=58398, end=58405), type='PER')\n",
      "Match(tokens=[Token(span=(58526, 58529), text='ИНН'), Token(span=(58530, 58539), text='_________')], span=Span(start=58526, end=58539), type='PER')\n",
      "Match(tokens=[Token(span=(58686, 58691), text='ОКВЭД'), Token(span=(58692, 58700), text='________')], span=Span(start=58686, end=58700), type='PER')\n",
      "Match(tokens=[Token(span=(59810, 59818), text='Сбербанк')], span=Span(start=59810, end=59818), type='ORG')\n",
      "Match(tokens=[Token(span=(59819, 59825), text='России')], span=Span(start=59819, end=59825), type='LOC')\n",
      "Match(tokens=[Token(span=(59832, 59840), text='Сбербанк')], span=Span(start=59832, end=59840), type='ORG')\n",
      "Match(tokens=[Token(span=(60850, 60858), text='Сбербанк')], span=Span(start=60850, end=60858), type='ORG')\n",
      "Match(tokens=[Token(span=(61171, 61179), text='Сбербанк')], span=Span(start=61171, end=61179), type='ORG')\n",
      "Match(tokens=[Token(span=(61513, 61521), text='Сбербанк')], span=Span(start=61513, end=61521), type='ORG')\n",
      "Match(tokens=[Token(span=(63142, 63150), text='Сбербанк')], span=Span(start=63142, end=63150), type='ORG')\n",
      "Match(tokens=[Token(span=(63374, 63382), text='Сбербанк')], span=Span(start=63374, end=63382), type='ORG')\n",
      "Match(tokens=[Token(span=(63499, 63501), text='юр')], span=Span(start=63499, end=63501), type='PER')\n",
      "Match(tokens=[Token(span=(63919, 63927), text='Сбербанк')], span=Span(start=63919, end=63927), type='ORG')\n",
      "Match(tokens=[Token(span=(64771, 64779), text='Сбербанк')], span=Span(start=64771, end=64779), type='ORG')\n",
      "Match(tokens=[Token(span=(70188, 70198), text='Российской'), Token(span=(70199, 70208), text='Федерации')], span=Span(start=70188, end=70208), type='LOC')\n",
      "Match(tokens=[Token(span=(72863, 72871), text='Сбербанк')], span=Span(start=72863, end=72871), type='ORG')\n",
      "Match(tokens=[Token(span=(73401, 73405), text='Сmin'), Token(span=(73405, 73406), text='/'), Token(span=(73406, 73408), text='Сi')], span=Span(start=73401, end=73408), type='ORG')\n",
      "Match(tokens=[Token(span=(74918, 74920), text='РФ')], span=Span(start=74918, end=74920), type='LOC')\n",
      "Match(tokens=[Token(span=(75166, 75174), text='Сбербанк'), Token(span=(75175, 75181), text='России')], span=Span(start=75166, end=75181), type='ORG')\n",
      "Match(tokens=[Token(span=(75188, 75196), text='Сбербанк')], span=Span(start=75188, end=75196), type='ORG')\n",
      "Match(tokens=[Token(span=(78028, 78031), text='ЗАО'), Token(span=(78033, 78041), text='Сбербанк')], span=Span(start=78028, end=78041), type='ORG')\n",
      "Match(tokens=[Token(span=(78042, 78045), text='АСТ')], span=Span(start=78042, end=78045), type='ORG')\n",
      "Match(tokens=[Token(span=(78537, 78547), text='Российской'), Token(span=(78548, 78557), text='Федерации')], span=Span(start=78537, end=78557), type='LOC')\n",
      "Match(tokens=[Token(span=(78857, 78865), text='Сбербанк')], span=Span(start=78857, end=78865), type='ORG')\n",
      "Match(tokens=[Token(span=(79000, 79002), text='РФ')], span=Span(start=79000, end=79002), type='LOC')\n",
      "Match(tokens=[Token(span=(82697, 82699), text='РФ')], span=Span(start=82697, end=82699), type='LOC')\n",
      "Match(tokens=[Token(span=(85136, 85138), text='РФ')], span=Span(start=85136, end=85138), type='LOC')\n",
      "Match(tokens=[Token(span=(85604, 85606), text='РФ')], span=Span(start=85604, end=85606), type='LOC')\n",
      "Match(tokens=[Token(span=(89902, 89910), text='Сбербанк')], span=Span(start=89902, end=89910), type='ORG')\n",
      "Match(tokens=[Token(span=(91219, 91222), text='ЗАО'), Token(span=(91224, 91232), text='Сбербанк')], span=Span(start=91219, end=91232), type='ORG')\n",
      "Match(tokens=[Token(span=(91233, 91236), text='АСТ')], span=Span(start=91233, end=91236), type='ORG')\n",
      "Match(tokens=[Token(span=(91406, 91414), text='Сбербанк')], span=Span(start=91406, end=91414), type='ORG')\n",
      "Match(tokens=[Token(span=(94536, 94546), text='Российской'), Token(span=(94547, 94556), text='Федерации')], span=Span(start=94536, end=94556), type='LOC')\n",
      "Match(tokens=[Token(span=(94891, 94894), text='ЭДО')], span=Span(start=94891, end=94894), type='PER')\n",
      "Match(tokens=[Token(span=(94895, 94898), text='ЗАО')], span=Span(start=94895, end=94898), type='ORG')\n",
      "Match(tokens=[Token(span=(94900, 94908), text='Сбербанк')], span=Span(start=94900, end=94908), type='ORG')\n",
      "Match(tokens=[Token(span=(94909, 94912), text='АСТ')], span=Span(start=94909, end=94912), type='ORG')\n",
      "Match(tokens=[Token(span=(95222, 95232), text='Российской'), Token(span=(95233, 95242), text='Федерации')], span=Span(start=95222, end=95242), type='LOC')\n",
      "Match(tokens=[Token(span=(96895, 96905), text='Российской'), Token(span=(96906, 96915), text='Федерации')], span=Span(start=96895, end=96915), type='LOC')\n",
      "Match(tokens=[Token(span=(101171, 101174), text='CRL'), Token(span=(101175, 101187), text='Distribution'), Token(span=(101188, 101194), text='Points')], span=Span(start=101171, end=101194), type='ORG')\n",
      "Match(tokens=[Token(span=(101405, 101413), text='Сбербанк')], span=Span(start=101405, end=101413), type='ORG')\n",
      "Match(tokens=[Token(span=(107731, 107742), text='Минкомсвязи')], span=Span(start=107731, end=107742), type='ORG')\n",
      "Match(tokens=[Token(span=(108539, 108541), text='ЭД')], span=Span(start=108539, end=108541), type='PER')\n",
      "Match(tokens=[Token(span=(111424, 111435), text='арбитражный'), Token(span=(111436, 111439), text='суд')], span=Span(start=111424, end=111439), type='ORG')\n",
      "Match(tokens=[Token(span=(112206, 112216), text='Российской'), Token(span=(112217, 112226), text='Федерации')], span=Span(start=112206, end=112226), type='LOC')\n",
      "Match(tokens=[Token(span=(116590, 116600), text='Российской'), Token(span=(116601, 116610), text='Федерации')], span=Span(start=116590, end=116610), type='LOC')\n",
      "Match(tokens=[Token(span=(117400, 117410), text='Российской'), Token(span=(117411, 117420), text='Федерации')], span=Span(start=117400, end=117420), type='LOC')\n",
      "Match(tokens=[Token(span=(118870, 118880), text='Российской'), Token(span=(118881, 118890), text='Федерации')], span=Span(start=118870, end=118890), type='LOC')\n",
      "Match(tokens=[Token(span=(118907, 118917), text='Республики'), Token(span=(118918, 118926), text='Беларусь')], span=Span(start=118907, end=118926), type='LOC')\n",
      "Match(tokens=[Token(span=(118955, 118964), text='Казахстан')], span=Span(start=118955, end=118964), type='LOC')\n",
      "Match(tokens=[Token(span=(119061, 119072), text='Таможенного'), Token(span=(119073, 119078), text='союза')], span=Span(start=119061, end=119078), type='ORG')\n",
      "CPU times: user 19.9 s, sys: 1.17 s, total: 21.1 s\n",
      "Wall time: 11.7 s\n"
     ]
    }
   ],
   "source": [
    "%%time\n",
    "for m in extractor(text):\n",
    "    print (m)\n"
   ]
  },
  {
   "cell_type": "code",
   "execution_count": null,
   "metadata": {
    "collapsed": true
   },
   "outputs": [],
   "source": []
  }
 ],
 "metadata": {
  "kernelspec": {
   "display_name": "Python 3",
   "language": "python",
   "name": "python3"
  },
  "language_info": {
   "codemirror_mode": {
    "name": "ipython",
    "version": 3
   },
   "file_extension": ".py",
   "mimetype": "text/x-python",
   "name": "python",
   "nbconvert_exporter": "python",
   "pygments_lexer": "ipython3",
   "version": "3.6.3"
  }
 },
 "nbformat": 4,
 "nbformat_minor": 2
}
