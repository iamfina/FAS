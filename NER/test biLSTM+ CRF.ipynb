{
 "cells": [
  {
   "cell_type": "markdown",
   "metadata": {},
   "source": [
    "## NER BiLSTM+CRF\n",
    "https://github.com/deepmipt/ner\n",
    "\n",
    "https://arxiv.org/pdf/1709.09686.pdf"
   ]
  },
  {
   "cell_type": "code",
   "execution_count": 5,
   "metadata": {
    "collapsed": true
   },
   "outputs": [],
   "source": [
    "import pandas as pd"
   ]
  },
  {
   "cell_type": "code",
   "execution_count": 4,
   "metadata": {},
   "outputs": [],
   "source": [
    "with open('./doc.txt') as f:\n",
    "    text = f.read()"
   ]
  },
  {
   "cell_type": "code",
   "execution_count": 17,
   "metadata": {
    "collapsed": true
   },
   "outputs": [],
   "source": [
    "import time"
   ]
  },
  {
   "cell_type": "code",
   "execution_count": 1,
   "metadata": {},
   "outputs": [
    {
     "name": "stdout",
     "output_type": "stream",
     "text": [
      "Downloading from http://lnsigo.mipt.ru/export/models/ner/ner_model_total_rus.tar.gz to model/ner_model_total_rus.tar.gz\n"
     ]
    },
    {
     "name": "stderr",
     "output_type": "stream",
     "text": [
      "100%|█████████▉| 44.1M/44.3M [00:24<00:00, 1.17MB/s]"
     ]
    },
    {
     "name": "stdout",
     "output_type": "stream",
     "text": [
      "Extracting model/ner_model_total_rus.tar.gz archive into model/\n"
     ]
    },
    {
     "name": "stderr",
     "output_type": "stream",
     "text": [
      "/home/vladimir/anaconda3/lib/python3.6/site-packages/tensorflow/python/ops/gradients_impl.py:95: UserWarning: Converting sparse IndexedSlices to a dense Tensor of unknown shape. This may consume a large amount of memory.\n",
      "  \"Converting sparse IndexedSlices to a dense Tensor of unknown shape. \"\n"
     ]
    },
    {
     "name": "stdout",
     "output_type": "stream",
     "text": [
      "INFO:tensorflow:Restoring parameters from model/ner_model\n"
     ]
    },
    {
     "name": "stderr",
     "output_type": "stream",
     "text": [
      "\r",
      "100%|██████████| 44.3M/44.3M [00:40<00:00, 1.17MB/s]"
     ]
    }
   ],
   "source": [
    "from ner.network import NER\n",
    "from ner.corpus import Corpus\n",
    "import json\n",
    "from ner.utils import md5_hashsum, download_untar\n",
    "from glob import glob\n",
    "\n",
    "\n",
    "# Check existance of the model by hashsum\n",
    "if md5_hashsum(sorted(glob('model/*'))) != 'fd50a27b96b24cdabdda13795a3baae7':\n",
    "    # Download and extract model\n",
    "    download_url = 'http://lnsigo.mipt.ru/export/models/ner/ner_model_total_rus.tar.gz'\n",
    "    download_path = 'model/'\n",
    "    download_untar(download_url, download_path)\n",
    "\n",
    "# Load network params\n",
    "with open('model/params.json') as f:\n",
    "    network_params = json.load(f)\n",
    "\n",
    "\n",
    "corpus = Corpus(dicts_filepath='model/dict.txt')\n",
    "\n",
    "network = NER(corpus, verbouse=False, pretrained_model_filepath='model/ner_model', **network_params)"
   ]
  },
  {
   "cell_type": "code",
   "execution_count": 27,
   "metadata": {
    "collapsed": true
   },
   "outputs": [],
   "source": [
    "from collections import Counter"
   ]
  },
  {
   "cell_type": "code",
   "execution_count": 83,
   "metadata": {},
   "outputs": [],
   "source": [
    "from ner.utils import tokenize, lemmatize\n",
    "\n",
    "\n",
    "def predict(sentence, network):\n",
    "    # Split sentence into tokens\n",
    "    tokens = tokenize(sentence)\n",
    "    \n",
    "    # Lemmatize every token\n",
    "    # Example: был -> быть, его -> он\n",
    "    tokens_lemmas = lemmatize(tokens)\n",
    "    \n",
    "    tags = network.predict_for_token_batch([tokens_lemmas])[0]\n",
    "    return tokens, tags\n",
    "   "
   ]
  },
  {
   "cell_type": "code",
   "execution_count": 84,
   "metadata": {
    "scrolled": true
   },
   "outputs": [],
   "source": [
    "tokens, tags = predict(text, network)"
   ]
  },
  {
   "cell_type": "code",
   "execution_count": 91,
   "metadata": {},
   "outputs": [],
   "source": [
    "NER_dict = {token: tag for token, tag in zip(tokens,tags) if tag != 'O' and token.isalpha()}"
   ]
  },
  {
   "cell_type": "code",
   "execution_count": 92,
   "metadata": {},
   "outputs": [
    {
     "data": {
      "text/plain": [
       "{'CRL': 'B-ORG',\n",
       " 'Certificate': 'B-ORG',\n",
       " 'Distribution': 'I-ORG',\n",
       " 'Good': 'I-ORG',\n",
       " 'Points': 'I-ORG',\n",
       " 'Standing': 'I-ORG',\n",
       " 'of': 'I-ORG',\n",
       " 'АСТ': 'B-ORG',\n",
       " 'Арбитражный': 'B-ORG',\n",
       " 'Беларусь': 'I-LOC',\n",
       " 'Белгородская': 'B-LOC',\n",
       " 'Белгородской': 'B-LOC',\n",
       " 'Воронеж': 'B-LOC',\n",
       " 'ЗАО': 'B-ORG',\n",
       " 'ИНН': 'B-PER',\n",
       " 'ИТОГО': 'B-PER',\n",
       " 'Казахстан': 'B-LOC',\n",
       " 'М': 'B-PER',\n",
       " 'Минздрава': 'B-ORG',\n",
       " 'Минздравсоцразвития': 'B-ORG',\n",
       " 'Минкомсвязи': 'B-ORG',\n",
       " 'Москва': 'B-LOC',\n",
       " 'НДС': 'I-PER',\n",
       " 'Николаевич': 'I-PER',\n",
       " 'ОГРН': 'I-PER',\n",
       " 'ОКВЭД': 'B-PER',\n",
       " 'Павел': 'I-PER',\n",
       " 'Предрейсовый': 'B-ORG',\n",
       " 'РФ': 'B-LOC',\n",
       " 'Республики': 'B-LOC',\n",
       " 'Рожков': 'B-PER',\n",
       " 'России': 'I-ORG',\n",
       " 'Российской': 'B-LOC',\n",
       " 'Сi': 'I-ORG',\n",
       " 'Сmin': 'B-ORG',\n",
       " 'Сбербанк': 'B-ORG',\n",
       " 'Таможенного': 'B-ORG',\n",
       " 'ФНС': 'B-ORG',\n",
       " 'Федерации': 'I-LOC',\n",
       " 'ХХХ': 'I-PER',\n",
       " 'ЦС': 'B-ORG',\n",
       " 'ЭД': 'B-PER',\n",
       " 'ЭДО': 'B-PER',\n",
       " 'акт': 'B-ORG',\n",
       " 'арбитражного': 'B-ORG',\n",
       " 'арбитражный': 'B-ORG',\n",
       " 'медицинский': 'I-ORG',\n",
       " 'медицинского': 'I-ORG',\n",
       " 'нотариально': 'B-LOC',\n",
       " 'обл': 'I-LOC',\n",
       " 'ориентировочно': 'B-PER',\n",
       " 'освидетельствования': 'I-ORG',\n",
       " 'осмотр': 'I-ORG',\n",
       " 'отчество': 'B-PER',\n",
       " 'послерейсовый': 'B-ORG',\n",
       " 'союза': 'I-ORG',\n",
       " 'спецавтотранспорта': 'I-PER',\n",
       " 'стоянки': 'B-PER',\n",
       " 'суд': 'I-ORG',\n",
       " 'суда': 'I-ORG',\n",
       " 'ф': 'B-PER',\n",
       " 'х': 'I-PER',\n",
       " 'чел': 'B-PER',\n",
       " 'штамп': 'B-PER',\n",
       " 'юр': 'B-PER'}"
      ]
     },
     "execution_count": 92,
     "metadata": {},
     "output_type": "execute_result"
    }
   ],
   "source": [
    "NER_dict"
   ]
  },
  {
   "cell_type": "code",
   "execution_count": null,
   "metadata": {
    "collapsed": true
   },
   "outputs": [],
   "source": []
  },
  {
   "cell_type": "code",
   "execution_count": 79,
   "metadata": {
    "scrolled": true
   },
   "outputs": [],
   "source": [
    "import re\n",
    "tel = re.compile('[+0-9\\-\\(\\)]{11,}')"
   ]
  },
  {
   "cell_type": "code",
   "execution_count": 80,
   "metadata": {},
   "outputs": [
    {
     "data": {
      "text/plain": [
       "['8-473-260-95-53', '8(473)260-95-30', '8(473)260-95-30', '1027700132195']"
      ]
     },
     "execution_count": 80,
     "metadata": {},
     "output_type": "execute_result"
    }
   ],
   "source": [
    "tel.findall(text)"
   ]
  },
  {
   "cell_type": "code",
   "execution_count": 81,
   "metadata": {
    "collapsed": true
   },
   "outputs": [],
   "source": [
    "email = re.compile('ˆ[a-zA-Z0-9_.+-]+[a-zA-Z0-9-]+\\.[a-zA-Z0-9-.]+$')"
   ]
  },
  {
   "cell_type": "code",
   "execution_count": 82,
   "metadata": {},
   "outputs": [
    {
     "data": {
      "text/plain": [
       "[]"
      ]
     },
     "execution_count": 82,
     "metadata": {},
     "output_type": "execute_result"
    }
   ],
   "source": [
    "email.findall(text)"
   ]
  },
  {
   "cell_type": "code",
   "execution_count": null,
   "metadata": {
    "collapsed": true
   },
   "outputs": [],
   "source": []
  }
 ],
 "metadata": {
  "kernelspec": {
   "display_name": "Python 3",
   "language": "python",
   "name": "python3"
  },
  "language_info": {
   "codemirror_mode": {
    "name": "ipython",
    "version": 3
   },
   "file_extension": ".py",
   "mimetype": "text/x-python",
   "name": "python",
   "nbconvert_exporter": "python",
   "pygments_lexer": "ipython3",
   "version": "3.6.3"
  }
 },
 "nbformat": 4,
 "nbformat_minor": 2
}
